{
  "nbformat": 4,
  "nbformat_minor": 0,
  "metadata": {
    "kernelspec": {
      "name": "python3",
      "language": "python",
      "display_name": "Python 3"
    },
    "language_info": {
      "codemirror_mode": {
        "name": "ipython",
        "version": 2
      },
      "file_extension": ".py",
      "mimetype": "text/x-python",
      "name": "python",
      "nbconvert_exporter": "python",
      "pygments_lexer": "ipython2",
      "version": "3.8.8"
    },
    "colab": {
      "name": "Hackathon1.ipynb",
      "provenance": []
    },
    "accelerator": "GPU"
  },
  "cells": [
    {
      "cell_type": "code",
      "metadata": {
        "collapsed": true,
        "id": "_NpOWQbJohoO"
      },
      "source": [
        "import pandas as pd\n",
        "import numpy as np\n",
        "import matplotlib.pyplot as plt"
      ],
      "execution_count": 1,
      "outputs": []
    },
    {
      "cell_type": "code",
      "metadata": {
        "id": "nIITHUj4rl8N"
      },
      "source": [
        "## Load Data"
      ],
      "execution_count": 2,
      "outputs": []
    },
    {
      "cell_type": "code",
      "metadata": {
        "colab": {
          "base_uri": "https://localhost:8080/"
        },
        "id": "E2KBpxsfpp4-",
        "outputId": "2ab891b2-b93d-409d-8b57-ef3b29e16262"
      },
      "source": [
        "from google.colab import drive\n",
        "drive.mount('/content/drive')\n",
        "!!pip install --upgrade --force-reinstall --no-deps kaggle\n",
        "![ -d ~/.kaggle ] || mkdir ~/.kaggle\n",
        "![ -f ~/.kaggle/kaggle.json ] || cp /content/drive/MyDrive/kaggle_api/kaggle.json ~/.kaggle/\n",
        "!chmod 600 ~/.kaggle/kaggle.json\n",
        "![ -f /content/tabular-playground-series-jun-2021.zip ] || kaggle competitions download -c tabular-playground-series-jun-2021 && unzip /content/tabular-playground-series-jun-2021.zip"
      ],
      "execution_count": 3,
      "outputs": [
        {
          "output_type": "stream",
          "text": [
            "Mounted at /content/drive\n",
            "Downloading tabular-playground-series-jun-2021.zip to /content\n",
            " 51% 5.00M/9.89M [00:00<00:00, 30.8MB/s]\n",
            "100% 9.89M/9.89M [00:00<00:00, 48.1MB/s]\n",
            "Archive:  /content/tabular-playground-series-jun-2021.zip\n",
            "  inflating: sample_submission.csv   \n",
            "  inflating: test.csv                \n",
            "  inflating: train.csv               \n"
          ],
          "name": "stdout"
        }
      ]
    },
    {
      "cell_type": "markdown",
      "metadata": {
        "collapsed": false,
        "pycharm": {
          "name": "#%% md\n"
        },
        "id": "3G-bDS-BohoQ"
      },
      "source": [
        "### Data preparation\n",
        "- Clean the data\n",
        "- Convert to numpy array"
      ]
    },
    {
      "cell_type": "code",
      "metadata": {
        "id": "VKW9B28hZaNS"
      },
      "source": [
        "sample_data = pd.read_csv('train.csv')\n",
        "sample_data.fillna(0,inplace=True)\n",
        "dummy_column = []\n",
        "for col in sample_data.columns:\n",
        "    if(sample_data[col].nunique()<30):\n",
        "        if(col==\"target\"):\n",
        "            continue\n",
        "        dummy_column.append(col)\n",
        "\n",
        "sample_data = pd.get_dummies(sample_data,columns=dummy_column)\n",
        "# new_data.head()"
      ],
      "execution_count": 4,
      "outputs": []
    },
    {
      "cell_type": "code",
      "metadata": {
        "pycharm": {
          "name": "#%%\n"
        },
        "id": "befVbIGDohoR"
      },
      "source": [
        "\n",
        "\n",
        "train_data = sample_data.sample(frac=0.80,random_state=0)\n",
        "test_data = sample_data.drop(train_data.index)\n",
        "\n",
        "train_data.reset_index(inplace=True,drop=True)\n",
        "# Class_1 -> 1-1 = 0\n",
        "train_data['target'] = train_data['target'].apply(lambda x: int(x[-1:])-1)\n",
        "# train_data.head()\n",
        "\n",
        "test_data.reset_index(inplace=True,drop=True)\n",
        "test_data['target'] = test_data['target'].apply(lambda x: int(x[-1:])-1)\n",
        "# test_data.head()\n",
        "\n",
        "train_id = train_data['id']\n",
        "test_id = test_data['id']\n",
        "\n",
        "train_data.drop(columns='id',inplace=True)\n",
        "test_data.drop(columns='id',inplace=True)\n",
        "\n",
        "# train_data.head()\n",
        "# test_data.head()"
      ],
      "execution_count": 5,
      "outputs": []
    },
    {
      "cell_type": "markdown",
      "metadata": {
        "collapsed": false,
        "pycharm": {
          "name": "#%% md\n"
        },
        "id": "coVQ8-JrohoS"
      },
      "source": [
        "### Normalize the data:\n",
        "- Super important\n",
        "- Otherwise overflow/underflow error : Due to sigmoid and/or exponential\n"
      ]
    },
    {
      "cell_type": "code",
      "metadata": {
        "pycharm": {
          "name": "#%%\n"
        },
        "colab": {
          "base_uri": "https://localhost:8080/"
        },
        "id": "O6JSvMX0ohoS",
        "outputId": "77878514-3352-4b3c-87a5-055d43b1775f"
      },
      "source": [
        "# Treat all columns as normal variables taking values over real/natural numbers\n",
        "train_label = np.array(train_data['target'])\n",
        "train_label.shape = (train_label.shape[0])\n",
        "print(train_label.shape)\n",
        "# print(train_label)\n",
        "train = train_data.drop(columns=['target'])\n",
        "train = np.array(train)\n",
        "# train = train / np.linalg.norm(train)\n",
        "print(train.shape)\n",
        "# print(train)\n",
        "\n",
        "test_label = np.array(test_data['target'])\n",
        "test_label.shape = (test_label.shape[0])\n",
        "print(test_label.shape)\n",
        "# print(test_label)\n",
        "test = test_data.drop(columns=['target'])\n",
        "test = np.array(test)\n",
        "# test = test/np.linalg.norm(test)\n",
        "print(test.shape)\n",
        "# print(test)"
      ],
      "execution_count": 6,
      "outputs": [
        {
          "output_type": "stream",
          "text": [
            "(160000,)\n",
            "(160000, 516)\n",
            "(40000,)\n",
            "(40000, 516)\n"
          ],
          "name": "stdout"
        }
      ]
    },
    {
      "cell_type": "markdown",
      "metadata": {
        "collapsed": false,
        "pycharm": {
          "name": "#%% md\n"
        },
        "id": "kxNAslmzohoU"
      },
      "source": [
        "PyTorch Implementation"
      ]
    },
    {
      "cell_type": "code",
      "metadata": {
        "pycharm": {
          "name": "#%%\n"
        },
        "id": "aA7aoF6vohoU"
      },
      "source": [
        "import torch\n",
        "import torch.nn as nn\n",
        "import torch.nn.functional as F\n",
        "import torch.optim as optim\n",
        "import random\n",
        "from torchvision import transforms, datasets"
      ],
      "execution_count": 7,
      "outputs": []
    },
    {
      "cell_type": "code",
      "metadata": {
        "pycharm": {
          "name": "#%%\n"
        },
        "id": "0rN7SvOoohoV"
      },
      "source": [
        "p_train = torch.from_numpy(train).float()\n",
        "# print(p_train)\n",
        "p_train_label = torch.from_numpy(train_label)\n",
        "# print(p_train_label.unique())\n",
        "p_test = torch.from_numpy(test).float()\n",
        "p_test_label = torch.from_numpy(test_label)"
      ],
      "execution_count": 8,
      "outputs": []
    },
    {
      "cell_type": "code",
      "metadata": {
        "id": "mu9JvtUBD-Sq"
      },
      "source": [
        "class MyDataset(torch.utils.data.Dataset):\n",
        "    def __init__(self, x, y):\n",
        "        super(MyDataset, self).__init__()\n",
        "        assert x.shape[0] == y.shape[0] # assuming shape[0] = dataset size\n",
        "        self.x = x\n",
        "        self.y = y\n",
        "\n",
        "\n",
        "    def __len__(self):\n",
        "        return self.y.shape[0]\n",
        "\n",
        "    def __getitem__(self, index):\n",
        "        return self.x[index], self.y[index]"
      ],
      "execution_count": 9,
      "outputs": []
    },
    {
      "cell_type": "code",
      "metadata": {
        "pycharm": {
          "name": "#%%\n"
        },
        "colab": {
          "base_uri": "https://localhost:8080/",
          "height": 1000
        },
        "id": "8BpzizP1ohoV",
        "outputId": "337b9907-61aa-416d-8cb6-f506667681f5"
      },
      "source": [
        "model = nn.Sequential(nn.Linear(516,250),\n",
        "                      nn.ReLU(),\n",
        "                      nn.Linear(250,125),\n",
        "                      nn.ReLU(),\n",
        "                      nn.Linear(125,50),\n",
        "                      nn.ReLU(),\n",
        "                      nn.Linear(50,20),\n",
        "                      nn.ReLU(),\n",
        "                      nn.Linear(20,9))\n",
        "\n",
        "\n",
        "# def weights_init(m):\n",
        "#     if isinstance(m, nn.Linear):\n",
        "#         nn.init.xavier_uniform_(m.weight.data)\n",
        "# model.apply(weights_init)\n",
        "criterion = nn.CrossEntropyLoss()\n",
        "optimizer = optim.Adam(model.parameters(),lr=0.0005)\n",
        "if torch.cuda.is_available():\n",
        "  model = model.cuda()\n",
        "\n",
        "optimizer.zero_grad()\n",
        "epoch = 30\n",
        "batch_size = 50000\n",
        "\n",
        "# transform = transforms.Compose([transforms.ToTensor(),\n",
        "#                                 transforms.Normalize((0.5, ), (0.5, ))])\n",
        "b_train = MyDataset(p_train,p_train_label)\n",
        "b_train_loader = torch.utils.data.DataLoader(b_train,batch_size=batch_size,shuffle=True)\n",
        "\n",
        "train_loss = []\n",
        "train_correct = []\n",
        "test_loss = []\n",
        "test_correct = []\n",
        "t_loss_min = np.Inf\n",
        "for i in range(epoch):\n",
        "    running_loss = 0\n",
        "    running_correct = 0\n",
        "    model.train()\n",
        "    for p_train_batch,p_train_label_batch in b_train_loader:\n",
        "\n",
        "        if torch.cuda.is_available():\n",
        "            p_train_batch = p_train_batch.cuda()\n",
        "            p_train_label_batch = p_train_label_batch.cuda()\n",
        "\n",
        "        p_train_pred_batch = model(p_train_batch)\n",
        "        loss = criterion(p_train_pred_batch,p_train_label_batch)\n",
        "\n",
        "        # Calculate Gradient\n",
        "        \"\"\"\n",
        "        By default,gradients are accumulated i.e.\n",
        "        After each .backward() call, calculate the gradients\n",
        "        and add them to previously stored gradients.\n",
        "        We wish to calculate fresh gradients each time\n",
        "        so set stored gradients to zero first.\n",
        "        \"\"\"\n",
        "        optimizer.zero_grad()\n",
        "        loss.backward()\n",
        "        # Update weights based on gradients\n",
        "        optimizer.step()\n",
        "\n",
        "        # Optional Part\n",
        "        # print(loss.item())\n",
        "        running_loss += loss.item()\n",
        "        _,p_train_correct_class_batch = torch.max(p_train_pred_batch,1)\n",
        "        correct_batch = torch.mean(torch.eq(p_train_correct_class_batch,p_train_label_batch).float()).item()\n",
        "        # print(correct_batch*100)\n",
        "        running_correct += correct_batch\n",
        "    # Optional\n",
        "\n",
        "    model.eval()\n",
        "    if torch.cuda.is_available():\n",
        "        p_test = p_test.cuda()\n",
        "        p_test_label = p_test_label.cuda()\n",
        "    # p_train = p_train.cuda()\n",
        "    # p_train_label = p_train_label.cuda()\n",
        "    running_loss = running_loss / (p_train.size()[0]/batch_size)\n",
        "    running_correct = running_correct/(p_train.size()[0]/batch_size)\n",
        "    print(\"Epoch \" + str(i+1) + \" : Loss = \" + str(running_loss) + \" Correctness = \" + str(100*running_correct))\n",
        "    train_loss.append(running_loss)\n",
        "    train_correct.append(running_correct)\n",
        "    p_test_pred = model(p_test)\n",
        "    t_loss = criterion(p_test_pred,p_test_label)\n",
        "    test_loss.append(t_loss.item())\n",
        "    _,p_test_correct = torch.max(p_test_pred,1)\n",
        "    test_correct.append(torch.mean(torch.eq(p_test_correct,p_test_label).float()).item())\n",
        "\n",
        "    # Save Best model\n",
        "    if t_loss <= t_loss_min:\n",
        "        print('Validation loss decreased ({:.6f} --> {:.6f}).  Saving model ...'.format(\n",
        "        t_loss_min,\n",
        "        t_loss))\n",
        "        torch.save(model.state_dict(), 'model.pt')\n",
        "        t_loss_min = t_loss\n",
        "\n",
        "print(\"Final Training Correctness {:.2f}%\".format(train_correct[-1]*100))\n",
        "print(\"Final Test Correctness {:.2f}%\".format(test_correct[-1]*100))\n",
        "print(\"Final Training Loss {:.6f}\".format(train_loss[-1]))\n",
        "print(\"Final Test Loss {:.6f}\".format(test_loss[-1]))\n",
        "print(\"Minimum Test Loss: {:6f}\".format(t_loss_min))\n",
        "fig,ax = plt.subplots(2,2,sharex=True)\n",
        "ax[0][0].plot(train_loss)\n",
        "ax[0][0].set_title('Train Loss')\n",
        "ax[0][1].plot(train_correct)\n",
        "ax[0][1].set_title('Train Correctness')\n",
        "\n",
        "ax[1][0].plot(test_loss)\n",
        "ax[1][0].set_title('Test Loss')\n",
        "ax[1][1].plot(test_correct)\n",
        "ax[1][1].set_title('Test correct')\n",
        "fig.tight_layout()"
      ],
      "execution_count": 10,
      "outputs": [
        {
          "output_type": "stream",
          "text": [
            "Epoch 1 : Loss = 2.7904416620731354 Correctness = 9.542499901726842\n",
            "Validation loss decreased (inf --> 2.212374).  Saving model ...\n",
            "Epoch 2 : Loss = 2.748127579689026 Correctness = 17.013124423101544\n",
            "Validation loss decreased (2.212374 --> 2.173311).  Saving model ...\n",
            "Epoch 3 : Loss = 2.6928450912237167 Correctness = 26.906874496489763\n",
            "Validation loss decreased (2.173311 --> 2.119837).  Saving model ...\n",
            "Epoch 4 : Loss = 2.622824013233185 Correctness = 32.33937453478575\n",
            "Validation loss decreased (2.119837 --> 2.065183).  Saving model ...\n",
            "Epoch 5 : Loss = 2.564084902405739 Correctness = 32.42312464863062\n",
            "Validation loss decreased (2.065183 --> 2.040406).  Saving model ...\n",
            "Epoch 6 : Loss = 2.539755180478096 Correctness = 31.183749437332153\n",
            "Validation loss decreased (2.040406 --> 2.020527).  Saving model ...\n",
            "Epoch 7 : Loss = 2.507249489426613 Correctness = 31.862499192357063\n",
            "Validation loss decreased (2.020527 --> 1.989310).  Saving model ...\n",
            "Epoch 8 : Loss = 2.4740705266594887 Correctness = 32.22124930471182\n",
            "Validation loss decreased (1.989310 --> 1.970079).  Saving model ...\n",
            "Epoch 9 : Loss = 2.4477391690015793 Correctness = 32.363749109208584\n",
            "Validation loss decreased (1.970079 --> 1.950268).  Saving model ...\n",
            "Epoch 10 : Loss = 2.4204547703266144 Correctness = 33.796872943639755\n",
            "Validation loss decreased (1.950268 --> 1.931605).  Saving model ...\n",
            "Epoch 11 : Loss = 2.398713529109955 Correctness = 33.77562388777733\n",
            "Validation loss decreased (1.931605 --> 1.918826).  Saving model ...\n",
            "Epoch 12 : Loss = 2.3804987594485283 Correctness = 35.67562438547611\n",
            "Validation loss decreased (1.918826 --> 1.905919).  Saving model ...\n",
            "Epoch 13 : Loss = 2.3672647029161453 Correctness = 38.42624928802252\n",
            "Validation loss decreased (1.905919 --> 1.895265).  Saving model ...\n",
            "Epoch 14 : Loss = 2.3563091084361076 Correctness = 39.07812386751175\n",
            "Validation loss decreased (1.895265 --> 1.885772).  Saving model ...\n",
            "Epoch 15 : Loss = 2.345772124826908 Correctness = 38.90500031411648\n",
            "Validation loss decreased (1.885772 --> 1.877890).  Saving model ...\n",
            "Epoch 16 : Loss = 2.3347119241952896 Correctness = 39.070624858140945\n",
            "Validation loss decreased (1.877890 --> 1.870642).  Saving model ...\n",
            "Epoch 17 : Loss = 2.3226602748036385 Correctness = 39.42562360316515\n",
            "Validation loss decreased (1.870642 --> 1.863944).  Saving model ...\n",
            "Epoch 18 : Loss = 2.3228806629776955 Correctness = 39.13374803960323\n",
            "Validation loss decreased (1.863944 --> 1.857654).  Saving model ...\n",
            "Epoch 19 : Loss = 2.307536341249943 Correctness = 39.68687355518341\n",
            "Validation loss decreased (1.857654 --> 1.851440).  Saving model ...\n",
            "Epoch 20 : Loss = 2.3060111701488495 Correctness = 39.44874927401543\n",
            "Validation loss decreased (1.851440 --> 1.845382).  Saving model ...\n",
            "Epoch 21 : Loss = 2.2949007898569107 Correctness = 39.654999040067196\n",
            "Validation loss decreased (1.845382 --> 1.839548).  Saving model ...\n",
            "Epoch 22 : Loss = 2.286505624651909 Correctness = 39.86499924212694\n",
            "Validation loss decreased (1.839548 --> 1.833910).  Saving model ...\n",
            "Epoch 23 : Loss = 2.27625098079443 Correctness = 40.68874940276146\n",
            "Validation loss decreased (1.833910 --> 1.827877).  Saving model ...\n",
            "Epoch 24 : Loss = 2.2714734822511673 Correctness = 41.93937312811613\n",
            "Validation loss decreased (1.827877 --> 1.820650).  Saving model ...\n",
            "Epoch 25 : Loss = 2.2623446211218834 Correctness = 43.19874942302704\n",
            "Validation loss decreased (1.820650 --> 1.813742).  Saving model ...\n",
            "Epoch 26 : Loss = 2.2555502876639366 Correctness = 43.606873601675034\n",
            "Validation loss decreased (1.813742 --> 1.808084).  Saving model ...\n",
            "Epoch 27 : Loss = 2.245303876698017 Correctness = 43.75874903053045\n",
            "Validation loss decreased (1.808084 --> 1.803062).  Saving model ...\n",
            "Epoch 28 : Loss = 2.239532917737961 Correctness = 43.93624886870384\n",
            "Validation loss decreased (1.803062 --> 1.798604).  Saving model ...\n",
            "Epoch 29 : Loss = 2.2344358637928963 Correctness = 43.908748775720596\n",
            "Validation loss decreased (1.798604 --> 1.794693).  Saving model ...\n",
            "Epoch 30 : Loss = 2.2269534319639206 Correctness = 44.050623662769794\n",
            "Validation loss decreased (1.794693 --> 1.791062).  Saving model ...\n",
            "Final Training Correctness 44.05%\n",
            "Final Test Correctness 35.13%\n",
            "Final Training Loss 2.226953\n",
            "Final Test Loss 1.791062\n",
            "Minimum Test Loss: 1.791062\n"
          ],
          "name": "stdout"
        },
        {
          "output_type": "display_data",
          "data": {
            "image/png": "[encoded data removed]",
            "text/plain": [
              "<Figure size 432x288 with 4 Axes>"
            ]
          },
          "metadata": {
            "tags": [],
            "needs_background": "light"
          }
        }
      ]
    },
    {
      "cell_type": "markdown",
      "metadata": {
        "id": "xGQGWC_w-pvC"
      },
      "source": [
        "PREDICTION"
      ]
    },
    {
      "cell_type": "code",
      "metadata": {
        "pycharm": {
          "name": "#%%\n",
          "is_executing": true
        },
        "id": "wHLGXZB9ohoX",
        "colab": {
          "base_uri": "https://localhost:8080/"
        },
        "outputId": "55d88282-dd17-4357-db12-4ca070607d82"
      },
      "source": [
        "model.load_state_dict(torch.load('model.pt'))\n",
        "kaggle_data = pd.read_csv('test.csv')\n",
        "\n",
        "kaggle_data.fillna(0,inplace=True)\n",
        "kaggle_data = pd.get_dummies(kaggle_data,columns=dummy_column)\n",
        "kaggle_id = kaggle_data['id']\n",
        "kaggle_data.drop(columns='id',inplace=True)\n",
        "with torch.no_grad():\n",
        "    kaggle_data = torch.tensor(kaggle_data.to_numpy()).float()\n",
        "    if torch.cuda.is_available():\n",
        "        kaggle_data = kaggle_data.cuda()\n",
        "    kaggle_pred = F.softmax(model(kaggle_data),dim=1)\n",
        "    print(kaggle_pred[0])\n",
        "\n",
        "\n",
        "kaggle_pred = np.array(kaggle_pred.detach().cpu())\n",
        "final = pd.DataFrame(kaggle_pred,index=kaggle_id,columns=[\"Class_\"+ str(i+1) for i in range(9)])\n",
        "final.to_csv(\"final.csv\")"
      ],
      "execution_count": 11,
      "outputs": [
        {
          "output_type": "stream",
          "text": [
            "tensor([0.0375, 0.3208, 0.1400, 0.0172, 0.0200, 0.1932, 0.0328, 0.1337, 0.1047],\n",
            "       device='cuda:0')\n"
          ],
          "name": "stdout"
        }
      ]
    },
    {
      "cell_type": "code",
      "metadata": {
        "id": "e6R1zW6uKwRe",
        "colab": {
          "base_uri": "https://localhost:8080/"
        },
        "outputId": "b404a9c6-ac9e-4804-b0b4-db848ce4f0a6"
      },
      "source": [
        "!kaggle competitions submit -c tabular-playground-series-jun-2021 -f final.csv -m \"Multiple Dummy variables + Very Deep Model\""
      ],
      "execution_count": 12,
      "outputs": [
        {
          "output_type": "stream",
          "text": [
            "100% 10.4M/10.4M [00:02<00:00, 5.28MB/s]\n",
            "Successfully submitted to Tabular Playground Series - Jun 2021"
          ],
          "name": "stdout"
        }
      ]
    },
    {
      "cell_type": "code",
      "metadata": {
        "id": "EY-eqP82cl5_"
      },
      "source": [],
      "execution_count": 12,
      "outputs": []
    }
  ]
}